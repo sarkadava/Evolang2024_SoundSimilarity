{
 "cells": [
  {
   "cell_type": "markdown",
   "metadata": {},
   "source": [
    "# Cutting audio based on timestamps\n",
    "\n",
    "This script is taking one .wav file and cuts segments based on time stamps"
   ]
  },
  {
   "cell_type": "code",
   "execution_count": 15,
   "metadata": {},
   "outputs": [
    {
     "name": "stdout",
     "output_type": "stream",
     "text": [
      "c:\\Users\\Sarka Kadava\\OneDrive - Leibniz-ZAS\\Desktop\\Evolang_analysis\\data\\\n",
      "c:\\Users\\Sarka Kadava\\OneDrive - Leibniz-ZAS\\Desktop\\Evolang_analysis\\data\\duration_log.txt\n"
     ]
    },
    {
     "data": {
      "text/html": [
       "<div>\n",
       "<style scoped>\n",
       "    .dataframe tbody tr th:only-of-type {\n",
       "        vertical-align: middle;\n",
       "    }\n",
       "\n",
       "    .dataframe tbody tr th {\n",
       "        vertical-align: top;\n",
       "    }\n",
       "\n",
       "    .dataframe thead th {\n",
       "        text-align: right;\n",
       "    }\n",
       "</style>\n",
       "<table border=\"1\" class=\"dataframe\">\n",
       "  <thead>\n",
       "    <tr style=\"text-align: right;\">\n",
       "      <th></th>\n",
       "      <th>file</th>\n",
       "      <th>segment</th>\n",
       "      <th>onset</th>\n",
       "      <th>offset</th>\n",
       "      <th>duration</th>\n",
       "    </tr>\n",
       "  </thead>\n",
       "  <tbody>\n",
       "    <tr>\n",
       "      <th>0</th>\n",
       "      <td>p0_t59_v_w95_stone-rock</td>\n",
       "      <td>s1</td>\n",
       "      <td>0.837577</td>\n",
       "      <td>1.331419</td>\n",
       "      <td>493.842</td>\n",
       "    </tr>\n",
       "    <tr>\n",
       "      <th>1</th>\n",
       "      <td>p0_t59_v_w95_stone-rock</td>\n",
       "      <td>p</td>\n",
       "      <td>1.331419</td>\n",
       "      <td>1.486475</td>\n",
       "      <td>155.056</td>\n",
       "    </tr>\n",
       "    <tr>\n",
       "      <th>2</th>\n",
       "      <td>p0_t59_v_w95_stone-rock</td>\n",
       "      <td>s2</td>\n",
       "      <td>1.486475</td>\n",
       "      <td>1.658560</td>\n",
       "      <td>172.085</td>\n",
       "    </tr>\n",
       "    <tr>\n",
       "      <th>3</th>\n",
       "      <td>p0_t59_v_w95_stone-rock</td>\n",
       "      <td>p</td>\n",
       "      <td>1.658560</td>\n",
       "      <td>1.981607</td>\n",
       "      <td>323.047</td>\n",
       "    </tr>\n",
       "    <tr>\n",
       "      <th>4</th>\n",
       "      <td>p0_t59_v_w95_stone-rock</td>\n",
       "      <td>s3</td>\n",
       "      <td>1.981607</td>\n",
       "      <td>2.165529</td>\n",
       "      <td>183.921</td>\n",
       "    </tr>\n",
       "  </tbody>\n",
       "</table>\n",
       "</div>"
      ],
      "text/plain": [
       "                      file segment     onset    offset  duration\n",
       "0  p0_t59_v_w95_stone-rock     s1   0.837577  1.331419   493.842\n",
       "1  p0_t59_v_w95_stone-rock      p   1.331419  1.486475   155.056\n",
       "2  p0_t59_v_w95_stone-rock     s2   1.486475  1.658560   172.085\n",
       "3  p0_t59_v_w95_stone-rock      p   1.658560  1.981607   323.047\n",
       "4  p0_t59_v_w95_stone-rock     s3   1.981607  2.165529   183.921"
      ]
     },
     "execution_count": 15,
     "metadata": {},
     "output_type": "execute_result"
    }
   ],
   "source": [
    "### folder settings\n",
    "\n",
    "import os\n",
    "import pandas as pd\n",
    "\n",
    "curfolder = os.getcwd()\n",
    "audiofolder = curfolder + '\\\\data\\\\'\n",
    "ouputdata = audiofolder + 'segments\\\\'\n",
    "segment_info = audiofolder + 'duration_log.txt'\n",
    "\n",
    "print(audiofolder)\n",
    "print(segment_info)\n",
    "\n",
    "# load the segment_info file as df\n",
    "\n",
    "segments = pd.read_csv(segment_info, sep='\\t', header=None)\n",
    "# rename columns\n",
    "segments.columns = ['file', 'segment', 'onset', 'offset', 'duration']\n",
    "\n",
    "segments.head()\n",
    "\n",
    "\n"
   ]
  },
  {
   "cell_type": "code",
   "execution_count": 17,
   "metadata": {},
   "outputs": [],
   "source": [
    "# loop over wav files and cut out segments with scipy\n",
    "\n",
    "from scipy.io import wavfile\n",
    "from scipy import signal\n",
    "\n",
    "for index, row in segments.iterrows():\n",
    "    # load wav file\n",
    "    fs, data = wavfile.read(audiofolder + row['file'] + '.wav')\n",
    "    # cut out segment\n",
    "    segment = data[int(row['onset']*fs):int(row['offset']*fs)]\n",
    "    # save segment\n",
    "    wavfile.write(ouputdata + row['file'] + '_' + str(row['segment']) + '.wav', fs, segment)\n",
    "    "
   ]
  }
 ],
 "metadata": {
  "kernelspec": {
   "display_name": "evolang",
   "language": "python",
   "name": "python3"
  },
  "language_info": {
   "codemirror_mode": {
    "name": "ipython",
    "version": 3
   },
   "file_extension": ".py",
   "mimetype": "text/x-python",
   "name": "python",
   "nbconvert_exporter": "python",
   "pygments_lexer": "ipython3",
   "version": "3.11.5"
  },
  "orig_nbformat": 4
 },
 "nbformat": 4,
 "nbformat_minor": 2
}
